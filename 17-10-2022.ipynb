{
  "nbformat": 4,
  "nbformat_minor": 0,
  "metadata": {
    "colab": {
      "provenance": [],
      "authorship_tag": "ABX9TyMuZcyZExrygJTb/JwCwCFq",
      "include_colab_link": true
    },
    "kernelspec": {
      "name": "python3",
      "display_name": "Python 3"
    },
    "language_info": {
      "name": "python"
    }
  },
  "cells": [
    {
      "cell_type": "markdown",
      "metadata": {
        "id": "view-in-github",
        "colab_type": "text"
      },
      "source": [
        "<a href=\"https://colab.research.google.com/github/ravipandey9973/Credit-Card-Fraud-Detection/blob/main/17-10-2022.ipynb\" target=\"_parent\"><img src=\"https://colab.research.google.com/assets/colab-badge.svg\" alt=\"Open In Colab\"/></a>"
      ]
    },
    {
      "cell_type": "code",
      "execution_count": 1,
      "metadata": {
        "colab": {
          "base_uri": "https://localhost:8080/"
        },
        "id": "WPQ44LgLYUzK",
        "outputId": "c64952f5-317b-42df-8ba7-6d7aeee733ba"
      },
      "outputs": [
        {
          "output_type": "stream",
          "name": "stdout",
          "text": [
            "Looking in indexes: https://pypi.org/simple, https://us-python.pkg.dev/colab-wheels/public/simple/\n",
            "Collecting pyod\n",
            "  Downloading pyod-1.0.5.tar.gz (137 kB)\n",
            "\u001b[K     |████████████████████████████████| 137 kB 33.4 MB/s \n",
            "\u001b[?25hRequirement already satisfied: joblib in /usr/local/lib/python3.7/dist-packages (from pyod) (1.2.0)\n",
            "Requirement already satisfied: matplotlib in /usr/local/lib/python3.7/dist-packages (from pyod) (3.2.2)\n",
            "Requirement already satisfied: numpy>=1.19 in /usr/local/lib/python3.7/dist-packages (from pyod) (1.21.6)\n",
            "Requirement already satisfied: numba>=0.51 in /usr/local/lib/python3.7/dist-packages (from pyod) (0.56.2)\n",
            "Requirement already satisfied: scipy>=1.5.1 in /usr/local/lib/python3.7/dist-packages (from pyod) (1.7.3)\n",
            "Requirement already satisfied: scikit_learn>=0.20.0 in /usr/local/lib/python3.7/dist-packages (from pyod) (1.0.2)\n",
            "Requirement already satisfied: six in /usr/local/lib/python3.7/dist-packages (from pyod) (1.15.0)\n",
            "Requirement already satisfied: statsmodels in /usr/local/lib/python3.7/dist-packages (from pyod) (0.12.2)\n",
            "Requirement already satisfied: llvmlite<0.40,>=0.39.0dev0 in /usr/local/lib/python3.7/dist-packages (from numba>=0.51->pyod) (0.39.1)\n",
            "Requirement already satisfied: importlib-metadata in /usr/local/lib/python3.7/dist-packages (from numba>=0.51->pyod) (5.0.0)\n",
            "Requirement already satisfied: setuptools<60 in /usr/local/lib/python3.7/dist-packages (from numba>=0.51->pyod) (57.4.0)\n",
            "Requirement already satisfied: threadpoolctl>=2.0.0 in /usr/local/lib/python3.7/dist-packages (from scikit_learn>=0.20.0->pyod) (3.1.0)\n",
            "Requirement already satisfied: zipp>=0.5 in /usr/local/lib/python3.7/dist-packages (from importlib-metadata->numba>=0.51->pyod) (3.9.0)\n",
            "Requirement already satisfied: typing-extensions>=3.6.4 in /usr/local/lib/python3.7/dist-packages (from importlib-metadata->numba>=0.51->pyod) (4.1.1)\n",
            "Requirement already satisfied: cycler>=0.10 in /usr/local/lib/python3.7/dist-packages (from matplotlib->pyod) (0.11.0)\n",
            "Requirement already satisfied: kiwisolver>=1.0.1 in /usr/local/lib/python3.7/dist-packages (from matplotlib->pyod) (1.4.4)\n",
            "Requirement already satisfied: python-dateutil>=2.1 in /usr/local/lib/python3.7/dist-packages (from matplotlib->pyod) (2.8.2)\n",
            "Requirement already satisfied: pyparsing!=2.0.4,!=2.1.2,!=2.1.6,>=2.0.1 in /usr/local/lib/python3.7/dist-packages (from matplotlib->pyod) (3.0.9)\n",
            "Requirement already satisfied: pandas>=0.21 in /usr/local/lib/python3.7/dist-packages (from statsmodels->pyod) (1.3.5)\n",
            "Requirement already satisfied: patsy>=0.5 in /usr/local/lib/python3.7/dist-packages (from statsmodels->pyod) (0.5.3)\n",
            "Requirement already satisfied: pytz>=2017.3 in /usr/local/lib/python3.7/dist-packages (from pandas>=0.21->statsmodels->pyod) (2022.4)\n",
            "Building wheels for collected packages: pyod\n",
            "  Building wheel for pyod (setup.py) ... \u001b[?25l\u001b[?25hdone\n",
            "  Created wheel for pyod: filename=pyod-1.0.5-py3-none-any.whl size=170258 sha256=6acc455278d24df2781028fe198cf38509363fa783c1918a5d5b1ead80629aef\n",
            "  Stored in directory: /root/.cache/pip/wheels/29/98/25/bc9bfccf3907de246c61668bc09c39216ec157f8218aea4c16\n",
            "Successfully built pyod\n",
            "Installing collected packages: pyod\n",
            "Successfully installed pyod-1.0.5\n"
          ]
        }
      ],
      "source": [
        "pip install pyod"
      ]
    },
    {
      "cell_type": "code",
      "source": [
        "import numpy as np\n",
        "from scipy import stats\n",
        "import matplotlib.pyplot as plt\n",
        "import matplotlib.font_manager\n",
        "from pyod.models.knn import KNN\n",
        "from pyod.utils.data import generate_data,get_outliers_inliers"
      ],
      "metadata": {
        "id": "t3u75OcYYZOg"
      },
      "execution_count": 3,
      "outputs": []
    },
    {
      "cell_type": "code",
      "source": [
        "# generating a random dataset with two features\n",
        "X_train,Y_train=generate_data(n_train=300,train_only=True,n_features=2)\n",
        "# setting the percentage of outliers\n",
        "outlier_fraction=0.1\n",
        "# storing the outliers and inliers  in different numpy arrays\n",
        "X_outliers,X_inliers=get_outliers_inliers(X_train,Y_train)\n",
        "n_inliers=len(X_inliers)\n",
        "n_outliers=len(X_outliers)"
      ],
      "metadata": {
        "id": "bA9PjWpVZJdX"
      },
      "execution_count": 14,
      "outputs": []
    },
    {
      "cell_type": "code",
      "source": [
        "#Separate the two features\n",
        "f1 = X_train[:,[0]].reshape(-1,1)\n",
        "f2 = X_train[:,[1]].reshape(-1,1)\n",
        "#Visualising dataset\n",
        "#create a meshgrid\n",
        "xx,yy = np.meshgrid(np.linspace(-10,10,200),np.linspace(-10,10,200))\n",
        "#Scatter plot\n",
        "\n",
        "plt.scatter(f1,f2)\n",
        "plt.xlabel('Feature 1')\n",
        "plt.ylabel('Feature 2')"
      ],
      "metadata": {
        "colab": {
          "base_uri": "https://localhost:8080/",
          "height": 296
        },
        "id": "SCdPNEXQcgVy",
        "outputId": "43d46511-43cc-4d8b-bac0-6799d34b20ba"
      },
      "execution_count": 63,
      "outputs": [
        {
          "output_type": "execute_result",
          "data": {
            "text/plain": [
              "Text(0, 0.5, 'Feature 2')"
            ]
          },
          "metadata": {},
          "execution_count": 63
        },
        {
          "output_type": "display_data",
          "data": {
            "text/plain": [
              "<Figure size 432x288 with 1 Axes>"
            ],
            "image/png": "[encoded data removed]"
          },
          "metadata": {
            "needs_background": "light"
          }
        }
      ]
    },
    {
      "cell_type": "code",
      "source": [
        "#Training the Classifier\n",
        "clf = KNN(contamination = outlier_fraction)\n",
        "clf.fit(X_train,Y_train)\n",
        "#You can print this to see all the prediction scores\n",
        "\n",
        "scores_pred = clf.decision_function(X_train)*-1\n",
        "Y_pred = clf.predict(X_train)\n",
        "n_error = (Y_pred != Y_train).sum()\n",
        "#Counting the number of errors\n",
        "print('The number of prediction errors are '+str(n_error))"
      ],
      "metadata": {
        "colab": {
          "base_uri": "https://localhost:8080/"
        },
        "id": "VBZqduZze2l_",
        "outputId": "cd59392c-7b75-4239-c45f-26b280871652"
      },
      "execution_count": 66,
      "outputs": [
        {
          "output_type": "stream",
          "name": "stdout",
          "text": [
            "The number of prediction errors are 0\n"
          ]
        },
        {
          "output_type": "stream",
          "name": "stderr",
          "text": [
            "/usr/local/lib/python3.7/dist-packages/pyod/models/base.py:411: UserWarning: y should not be presented in unsupervised learning.\n",
            "  \"y should not be presented in unsupervised learning.\")\n"
          ]
        }
      ]
    },
    {
      "cell_type": "code",
      "source": [
        "#threshold value to consider a\n",
        "#datapoint inlier or outlier\n",
        "threshold = stats.scoreatpercentile(scores_pred ,100*outlier_fraction)\n",
        "#decision function calculates the raw \n",
        "#anomaly more for every point\n",
        "Z = clf.decision_function(np.c_[xx.ravel(),yy.ravel()])*-1\n",
        "Z = Z.reshape(xx.shape)\n",
        "#fill blue colormap from minimum anomaly\n",
        "#score to threshold value \n",
        "subplot = plt.subplot(1,2,1)\n",
        "subplot.contourf(xx,yy,Z,levels = np.linspace(Z.min(),threshold,10),cmap = plt.cm.Blues_r)\n",
        "#Draw red contour line where anomaly\n",
        "#Score is equal to threshold\n",
        "a = subplot.contour(xx,yy,Z,levels = [threshold],linewidths = 2,colors = 'red')\n",
        "#fill Orange lines where range of anomaly\n",
        "#score is from threshold to maximum anoaly score \n",
        "subplot.contour(xx,yy,Z,levels  = [threshold,Z.max()],colors = 'orange')\n",
        "#Scatter plot of liners with white dots\n",
        "b = subplot.scatter(X_train[:-n_outliers,0],X_train[:-n_outliers,1],c = 'white',s = 20,edgecolor = 'k')\n",
        "#Scatter plot of outliers with black dots\n",
        "c = subplot.scatter(X_train[-n_outliers:,0],X_train[-n_outliers:,1],c = 'black',s = 20,edgecolor = 'k')\n",
        "subplot.axis('tight')\n",
        "subplot.legend(\n",
        "    [a.collections[0],b,c],\n",
        "    ['learned decision function','true inliers','true, outliers'],\n",
        "    prop = matplotlib.font_manager.FontProperties(size = 10),\n",
        "    loc  = 'lower right')\n",
        "subplot.set_title('K-Nearest Neigbours')\n",
        "subplot.set_xlim((-10,10))\n",
        "subplot.set_ylim((-10,10))\n",
        "plt.show()"
      ],
      "metadata": {
        "colab": {
          "base_uri": "https://localhost:8080/",
          "height": 281
        },
        "id": "wAnUjs9HjUti",
        "outputId": "fcacfc02-4857-45c8-9eb3-ed27c48e05d3"
      },
      "execution_count": 67,
      "outputs": [
        {
          "output_type": "display_data",
          "data": {
            "text/plain": [
              "<Figure size 432x288 with 1 Axes>"
            ],
            "image/png": "[encoded data removed]"
          },
          "metadata": {
            "needs_background": "light"
          }
        }
      ]
    }
  ]
}